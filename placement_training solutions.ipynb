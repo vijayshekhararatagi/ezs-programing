{
 "cells": [
  {
   "cell_type": "code",
   "execution_count": 1,
   "id": "3d6585eb",
   "metadata": {},
   "outputs": [
    {
     "name": "stdout",
     "output_type": "stream",
     "text": [
      "hello\n"
     ]
    }
   ],
   "source": [
    "print('hello')"
   ]
  },
  {
   "cell_type": "code",
   "execution_count": 10,
   "id": "2437ad56",
   "metadata": {},
   "outputs": [
    {
     "name": "stdout",
     "output_type": "stream",
     "text": [
      "Enter the number of shots: 5\n",
      "Enter the size of subarray: 2\n",
      "Enter the distances from the basket for each shot, separated by space: 1 2 3 4 5\n",
      "The maximum possible score is: 17\n"
     ]
    }
   ],
   "source": [
    "#advanced subarray problem\n",
    "def max_score(n, k, arr):\n",
    "    # Convert to 1-based indexing\n",
    "    arr = [0] + arr\n",
    "\n",
    "    # Calculate initial score for the first 'k' elements\n",
    "    curr_score = sum(i*arr[i] for i in range(1, k+1))\n",
    "\n",
    "    max_score = curr_score\n",
    "\n",
    "    # Slide the window across the array\n",
    "    for i in range(k+1, n+1):\n",
    "        # Calculate the score for the current window\n",
    "        curr_score = curr_score - (k * arr[i-k]) + (k * arr[i])\n",
    "\n",
    "        # Update max_score if the current score is higher\n",
    "        max_score = max(max_score, curr_score)\n",
    "\n",
    "    return max_score\n",
    "\n",
    "# Get user input\n",
    "n = int(input(\"Enter the number of shots: \"))\n",
    "k = int(input(\"Enter the size of subarray: \"))\n",
    "arr = list(map(int, input(\"Enter the distances from the basket for each shot, separated by space: \").split()))\n",
    "\n",
    "# Call the function and print the result\n",
    "print(\"The maximum possible score is:\", max_score(n, k, arr))\n"
   ]
  },
  {
   "cell_type": "code",
   "execution_count": 14,
   "id": "06667f18",
   "metadata": {},
   "outputs": [
    {
     "name": "stdout",
     "output_type": "stream",
     "text": [
      "Enter the number of moves: 4\n",
      "Enter the moves (1 for right, -1 for left), separated by space: 1 2 3 4\n",
      "0\n"
     ]
    }
   ],
   "source": [
    "#ant and roll problem\n",
    "def ant_on_rail(n, moves):\n",
    "    position = 0\n",
    "    times_at_origin = 0\n",
    "    for move in moves:\n",
    "        position += move\n",
    "        if position == 0:\n",
    "            times_at_origin += 1\n",
    "    return times_at_origin\n",
    "\n",
    "# Get user input for the number of moves\n",
    "n = int(input(\"Enter the number of moves: \"))\n",
    "\n",
    "# Get user input for the moves, split the input string into a list of integers\n",
    "moves = list(map(int, input(\"Enter the moves (1 for right, -1 for left), separated by space: \").split()))\n",
    "\n",
    "# Call the function with the user input and print the result\n",
    "print(ant_on_rail(n, moves))\n"
   ]
  },
  {
   "cell_type": "code",
   "execution_count": 16,
   "id": "fd9826da",
   "metadata": {},
   "outputs": [
    {
     "name": "stdout",
     "output_type": "stream",
     "text": [
      "Enter the number of jars: 3\n",
      "Enter the quantity of chocolates in each jar, separated by space: 10 20 30\n",
      "21\n"
     ]
    }
   ],
   "source": [
    "#choclate jar problem\n",
    "def chocolates_for_A(jars):\n",
    "    total_chocolates = 0\n",
    "    for jar in jars:\n",
    "        while jar > 0:\n",
    "            total_chocolates += 1\n",
    "            jar -= 3  # 3 students pick chocolates one by one\n",
    "    return total_chocolates\n",
    "\n",
    "# Get user input for the number of jars\n",
    "n = int(input(\"Enter the number of jars: \"))\n",
    "\n",
    "# Get user input for the quantity of chocolates in each jar, split the input string into a list of integers\n",
    "jars = list(map(int, input(\"Enter the quantity of chocolates in each jar, separated by space: \").split()))\n",
    "\n",
    "# Call the function with the user input and print the result\n",
    "print(chocolates_for_A(jars))  # Output: Total number of chocolates that student A will have\n"
   ]
  },
  {
   "cell_type": "code",
   "execution_count": 17,
   "id": "d3ef2eb0",
   "metadata": {},
   "outputs": [
    {
     "name": "stdout",
     "output_type": "stream",
     "text": [
      "Enter the total number of problems: 4\n",
      "Enter the time to travel in minutes from home to the party venue: 30\n",
      "4\n"
     ]
    }
   ],
   "source": [
    "#Diwali contest\n",
    "def max_problems(N, P):\n",
    "    total_time = 4 * 60  # Total time in minutes\n",
    "    time_left = total_time - P  # Time left after travel\n",
    "    problems_solved = 0  # Number of problems solved\n",
    "\n",
    "    for i in range(1, N + 1):\n",
    "        time_required = 5 * i  # Time required to solve the ith problem\n",
    "        if time_left >= time_required:\n",
    "            time_left -= time_required\n",
    "            problems_solved += 1\n",
    "        else:\n",
    "            break  # If not enough time left to solve the problem, break the loop\n",
    "\n",
    "    return problems_solved\n",
    "\n",
    "# Get user input for the number of problems and the travel time\n",
    "N = int(input(\"Enter the total number of problems: \"))\n",
    "P = int(input(\"Enter the time to travel in minutes from home to the party venue: \"))\n",
    "\n",
    "# Call the function with the user input and print the result\n",
    "print(max_problems(N, P))  # Output: Total number of problems that Max can solve\n"
   ]
  },
  {
   "cell_type": "code",
   "execution_count": 18,
   "id": "67b5deed",
   "metadata": {},
   "outputs": [
    {
     "name": "stdout",
     "output_type": "stream",
     "text": [
      "-1\n",
      "-1\n",
      "1\n",
      "2\n",
      "3\n",
      "-1\n"
     ]
    }
   ],
   "source": [
    "#elections\n",
    "def find_majority_party(num_voters, votes):\n",
    "    if num_voters == 0:\n",
    "        return -1\n",
    "    \n",
    "    # Phase 1: Finding the candidate\n",
    "    candidate = None\n",
    "    count = 0\n",
    "    \n",
    "    for vote in votes:\n",
    "        if count == 0:\n",
    "            candidate = vote\n",
    "            count = 1\n",
    "        elif vote == candidate:\n",
    "            count += 1\n",
    "        else:\n",
    "            count -= 1\n",
    "    \n",
    "    # Phase 2: Verifying the candidate\n",
    "    count = 0\n",
    "    for vote in votes:\n",
    "        if vote == candidate:\n",
    "            count += 1\n",
    "    \n",
    "    if count > num_voters // 2:\n",
    "        return candidate\n",
    "    else:\n",
    "        return -1\n",
    "\n",
    "# Test cases\n",
    "print(find_majority_party(6, [1, 1, 2, 2, 2, 3]))  # Output: 2\n",
    "print(find_majority_party(6, [1, 2, 1, 1, 2, 2]))  # Output: -1\n",
    "print(find_majority_party(1, [1]))  # Output: 1\n",
    "print(find_majority_party(5, [1, 1, 2, 2, 2]))  # Output: 2\n",
    "print(find_majority_party(3, [3, 3, 4]))  # Output: 3\n",
    "print(find_majority_party(0, []))  # Output: -1\n"
   ]
  },
  {
   "cell_type": "code",
   "execution_count": 19,
   "id": "e2f8efa6",
   "metadata": {},
   "outputs": [
    {
     "name": "stdout",
     "output_type": "stream",
     "text": [
      "Enter a string: vijay is goat\n",
      "2\n"
     ]
    }
   ],
   "source": [
    "#space count\n",
    "def count_spaces(s):\n",
    "    return s.count(' ')\n",
    "\n",
    "# Taking user input\n",
    "input_string = input(\"Enter a string: \")\n",
    "\n",
    "# Counting the spaces in the input string\n",
    "num_spaces = count_spaces(input_string)\n",
    "\n",
    "# Printing the result\n",
    "print(num_spaces)\n"
   ]
  },
  {
   "cell_type": "code",
   "execution_count": 22,
   "id": "ac0df40e",
   "metadata": {},
   "outputs": [
    {
     "name": "stdout",
     "output_type": "stream",
     "text": [
      "Enter the size of the array: 5\n",
      "Enter the elements of the array separated by spaces: 1 2 3 4 5\n",
      "12\n"
     ]
    }
   ],
   "source": [
    "def minimum_array_sum(N, A):\n",
    "    # Repeat until no changes are made\n",
    "    while True:\n",
    "        # Calculate the average of the array\n",
    "        average = sum(A) / len(A)\n",
    "        \n",
    "        # Create a new list with elements updated according to the rule\n",
    "        new_A = [x if x >= average else 0 for x in A]\n",
    "        \n",
    "        # If the array does not change, break the loop\n",
    "        if new_A == A:\n",
    "            break\n",
    "        \n",
    "        # Update the array\n",
    "        A = new_A\n",
    "    \n",
    "    # Calculate the sum of the updated array\n",
    "    return sum(A)\n",
    "\n",
    "# Taking user input\n",
    "N = int(input(\"Enter the size of the array: \"))\n",
    "A = list(map(int, input(\"Enter the elements of the array separated by spaces: \").split()))\n",
    "\n",
    "# Getting the minimum possible sum\n",
    "min_sum = minimum_array_sum(N, A)\n",
    "\n",
    "# Printing the result\n",
    "print(min_sum)\n"
   ]
  },
  {
   "cell_type": "code",
   "execution_count": 24,
   "id": "0f81b56b",
   "metadata": {},
   "outputs": [
    {
     "name": "stdout",
     "output_type": "stream",
     "text": [
      "Enter an integer N: 98\n",
      "101\n"
     ]
    }
   ],
   "source": [
    "#math test with prime number\n",
    "def is_prime(num):\n",
    "    if num <= 1:\n",
    "        return False\n",
    "    if num <= 3:\n",
    "        return True\n",
    "    if num % 2 == 0 or num % 3 == 0:\n",
    "        return False\n",
    "    i = 5\n",
    "    while i * i <= num:\n",
    "        if num % i == 0 or num % (i + 2) == 0:\n",
    "            return False\n",
    "        i += 6\n",
    "    return True\n",
    "\n",
    "def smallest_prime_larger_than(N):\n",
    "    candidate = N + 1\n",
    "    while True:\n",
    "        if is_prime(candidate):\n",
    "            return candidate\n",
    "        candidate += 1\n",
    "\n",
    "# Taking user input\n",
    "N = int(input(\"Enter an integer N: \"))\n",
    "\n",
    "# Finding the smallest prime number larger than N\n",
    "result = smallest_prime_larger_than(N)\n",
    "\n",
    "# Printing the result\n",
    "print(result)\n"
   ]
  },
  {
   "cell_type": "code",
   "execution_count": 1,
   "id": "d24ca56a",
   "metadata": {},
   "outputs": [
    {
     "name": "stdout",
     "output_type": "stream",
     "text": [
      "Enter a string S: venkata sai\n",
      "8\n"
     ]
    }
   ],
   "source": [
    "#magic string\n",
    "def min_steps_to_magic_string(S):\n",
    "    # Create a dictionary to count the frequency of each character\n",
    "    frequency = {}\n",
    "    for char in S:\n",
    "        if char in frequency:\n",
    "            frequency[char] += 1\n",
    "        else:\n",
    "            frequency[char] = 1\n",
    "\n",
    "    # Find the maximum frequency\n",
    "    max_freq = max(frequency.values())\n",
    "    \n",
    "    # Calculate the minimum number of steps\n",
    "    min_steps = len(S) - max_freq\n",
    "    \n",
    "    return min_steps\n",
    "\n",
    "# Taking user input\n",
    "S = input(\"Enter a string S: \")\n",
    "\n",
    "# Calculating the minimum number of steps to form a Magic String\n",
    "result = min_steps_to_magic_string(S)\n",
    "\n",
    "# Printing the result\n",
    "print(result)\n"
   ]
  },
  {
   "cell_type": "code",
   "execution_count": 2,
   "id": "6d8e7911",
   "metadata": {},
   "outputs": [
    {
     "name": "stdout",
     "output_type": "stream",
     "text": [
      "Enter an integer N: 167\n",
      "13649\n"
     ]
    }
   ],
   "source": [
    "#encode the number\n",
    "def encode_number(N):\n",
    "    # Convert the number to a string to iterate through each digit\n",
    "    str_N = str(N)\n",
    "    \n",
    "    # Initialize an empty string to store the concatenated squares\n",
    "    encoded_str = \"\"\n",
    "    \n",
    "    # Iterate through each digit, square it, and concatenate the result\n",
    "    for digit in str_N:\n",
    "        squared_digit = int(digit) ** 2\n",
    "        encoded_str += str(squared_digit)\n",
    "    \n",
    "    # Convert the concatenated result back to an integer\n",
    "    encoded_number = int(encoded_str)\n",
    "    \n",
    "    return encoded_number\n",
    "\n",
    "# Taking user input\n",
    "N = int(input(\"Enter an integer N: \"))\n",
    "\n",
    "# Calculating the encoded value\n",
    "encoded_value = encode_number(N)\n",
    "\n",
    "# Printing the result\n",
    "print(encoded_value)\n"
   ]
  },
  {
   "cell_type": "code",
   "execution_count": 3,
   "id": "aac2d793",
   "metadata": {},
   "outputs": [
    {
     "name": "stdout",
     "output_type": "stream",
     "text": [
      "Enter the sequence of integers separated by spaces: 1 2 -3 4\n",
      "8\n"
     ]
    }
   ],
   "source": [
    "#Ardino problem\n",
    "def farthest_coordinate(arr):\n",
    "    # Initialize the starting position\n",
    "    current_position = 0\n",
    "    max_position = 0\n",
    "    \n",
    "    # Iterate through the array to simulate the movement of the robocar\n",
    "    for i in range(len(arr)):\n",
    "        # Sum the movements from the beginning to the current step\n",
    "        for j in range(i + 1):\n",
    "            current_position += arr[j]\n",
    "            # Update the maximum position reached\n",
    "            max_position = max(max_position, current_position)\n",
    "    \n",
    "    return max_position\n",
    "\n",
    "# Taking user input\n",
    "input_array = list(map(int, input(\"Enter the sequence of integers separated by spaces: \").split()))\n",
    "\n",
    "# Calculating the farthest coordinate reached\n",
    "result = farthest_coordinate(input_array)\n",
    "\n",
    "# Printing the result\n",
    "print(result)\n"
   ]
  },
  {
   "cell_type": "code",
   "execution_count": 5,
   "id": "51d8e4c0",
   "metadata": {},
   "outputs": [
    {
     "name": "stdout",
     "output_type": "stream",
     "text": [
      "Enter the string A: venkatsai\n",
      "Enter the string S: don\n",
      "31\n"
     ]
    }
   ],
   "source": [
    "#special string\n",
    "def min_total_ascii_distance(A, S):\n",
    "    # Initialize total distance to 0\n",
    "    total_distance = 0\n",
    "    \n",
    "    # Iterate through each character in string A\n",
    "    for char_a in A:\n",
    "        min_distance = float('inf')\n",
    "        \n",
    "        # Find the character in S with the minimum ASCII distance to char_a\n",
    "        for char_s in S:\n",
    "            distance = abs(ord(char_a) - ord(char_s))\n",
    "            if distance < min_distance:\n",
    "                min_distance = distance\n",
    "        \n",
    "        # Add the minimum distance to the total distance\n",
    "        total_distance += min_distance\n",
    "    \n",
    "    return total_distance\n",
    "\n",
    "# Taking user input\n",
    "A = input(\"Enter the string A: \")\n",
    "S = input(\"Enter the string S: \")\n",
    "\n",
    "# Calculating the minimum total ASCII distance\n",
    "result = min_total_ascii_distance(A, S)\n",
    "\n",
    "# Printing the result\n",
    "print(result)\n"
   ]
  },
  {
   "cell_type": "code",
   "execution_count": 8,
   "id": "ecd987fd",
   "metadata": {},
   "outputs": [
    {
     "name": "stdout",
     "output_type": "stream",
     "text": [
      "Enter the number N: 5000\n",
      "Total number of commas used when writing numbers from 1 to 5000: 4001\n"
     ]
    }
   ],
   "source": [
    "#comma\n",
    "def count_commas(N):\n",
    "    comma_count = 0\n",
    "\n",
    "    # Ranges and corresponding commas\n",
    "    ranges = [\n",
    "        (1_000, 9_999, 1),\n",
    "        (10_000, 99_999, 1),\n",
    "        (100_000, 999_999, 2),\n",
    "        (1_000_000, 9_999_999, 2),\n",
    "        (10_000_000, 99_999_999, 3),\n",
    "        (100_000_000, 999_999_999, 3),\n",
    "        (1_000_000_000, float('inf'), 4)\n",
    "    ]\n",
    "\n",
    "    for start, end, commas in ranges:\n",
    "        if N < start:\n",
    "            break\n",
    "        upper_bound = min(N, end)\n",
    "        comma_count += (upper_bound - start + 1) * commas\n",
    "\n",
    "    return comma_count\n",
    "\n",
    "# Prompt user for input\n",
    "N = int(input(\"Enter the number N: \"))\n",
    "result = count_commas(N)\n",
    "print(f\"Total number of commas used when writing numbers from 1 to {N}: {result}\")\n"
   ]
  },
  {
   "cell_type": "code",
   "execution_count": 9,
   "id": "823b9ade",
   "metadata": {},
   "outputs": [
    {
     "name": "stdout",
     "output_type": "stream",
     "text": [
      "6\n"
     ]
    }
   ],
   "source": [
    "#toss and score\n",
    "def toss_and_score(s):\n",
    "    score = 0\n",
    "    consecutive_heads = 0\n",
    "    \n",
    "    for toss in s:\n",
    "        if toss == 'H':\n",
    "            score += 2\n",
    "            consecutive_heads += 1\n",
    "            if consecutive_heads == 3:\n",
    "                break\n",
    "        elif toss == 'T':\n",
    "            score -= 1\n",
    "            consecutive_heads = 0\n",
    "    \n",
    "    return score\n",
    "\n",
    "# Sample input\n",
    "s = \"HHHTT\"\n",
    "print(toss_and_score(s))  # Expected output: 6\n"
   ]
  },
  {
   "cell_type": "code",
   "execution_count": 10,
   "id": "c06a45bb",
   "metadata": {},
   "outputs": [
    {
     "name": "stdout",
     "output_type": "stream",
     "text": [
      "b\n"
     ]
    }
   ],
   "source": [
    "#best grade\n",
    "def best_grade(N, P, K):\n",
    "    smallest_char = N[P]  # Start with the character at the Pth index\n",
    "\n",
    "    # Traverse from the beginning of the string up to the Pth index\n",
    "    for i in range(P):\n",
    "        # Check if the character at index i can be moved to the Pth index within K swaps\n",
    "        if P - i <= K:\n",
    "            # Update the smallest character if this character is smaller\n",
    "            if N[i] < smallest_char:\n",
    "                smallest_char = N[i]\n",
    "\n",
    "    return smallest_char\n",
    "\n",
    "# Sample input\n",
    "N = \"abcdefg\"\n",
    "P = 3\n",
    "K = 2\n",
    "\n",
    "# Expected output: 'a'\n",
    "print(best_grade(N, P, K))\n"
   ]
  },
  {
   "cell_type": "code",
   "execution_count": 11,
   "id": "a55b5b2d",
   "metadata": {},
   "outputs": [
    {
     "name": "stdout",
     "output_type": "stream",
     "text": [
      "2 is prime\n",
      "3 is prime\n",
      "5 is prime\n",
      "7 is prime\n",
      "11 is prime\n",
      "13 is prime\n",
      "17 is prime\n",
      "19 is prime\n",
      "23 is prime\n",
      "29 is prime\n",
      "31 is prime\n",
      "37 is prime\n",
      "997 is prime\n",
      "1009 is prime\n",
      "1013 is prime\n",
      "1019 is prime\n",
      "1021 is prime\n",
      "1031 is prime\n",
      "1049 is prime\n",
      "1051 is prime\n",
      "1000000007 is prime\n",
      "1000000009 is prime\n",
      "1000000021 is prime\n",
      "1000000033 is prime\n"
     ]
    }
   ],
   "source": [
    "#primescenariogpt\n",
    "import random\n",
    "\n",
    "def miller_rabin(n, k=5):\n",
    "    \"\"\" Miller-Rabin primality test \"\"\"\n",
    "    if n <= 1:\n",
    "        return False\n",
    "    if n <= 3:\n",
    "        return True\n",
    "    if n % 2 == 0:\n",
    "        return False\n",
    "\n",
    "    # Write n as 2^r * d + 1 with d odd (factoring out powers of 2 from n-1)\n",
    "    r, d = 0, n - 1\n",
    "    while d % 2 == 0:\n",
    "        r += 1\n",
    "        d //= 2\n",
    "\n",
    "    # Perform the test k times\n",
    "    for _ in range(k):\n",
    "        a = random.randint(2, n - 2)  # Random integer in range [2, n-2]\n",
    "        x = pow(a, d, n)  # Compute a^d % n\n",
    "\n",
    "        if x == 1 or x == n - 1:\n",
    "            continue\n",
    "        \n",
    "        # Repeat squaring x^2, x^4, ..., until reaching x^(n-1)\n",
    "        for _ in range(r - 1):\n",
    "            x = pow(x, 2, n)\n",
    "            if x == n - 1:\n",
    "                break\n",
    "        else:\n",
    "            return False  # n is composite\n",
    "\n",
    "    return True  # n is probably prime\n",
    "\n",
    "# Example usage:\n",
    "if __name__ == \"__main__\":\n",
    "    # Test cases\n",
    "    numbers = [2, 3, 5, 7, 11, 13, 17, 19, 23, 29, 31, 37, \n",
    "               997, 1009, 1013, 1019, 1021, 1031, 1049, 1051,\n",
    "               1000000007, 1000000009, 1000000021, 1000000033]\n",
    "\n",
    "    for num in numbers:\n",
    "        if miller_rabin(num):\n",
    "            print(f\"{num} is prime\")\n",
    "        else:\n",
    "            print(f\"{num} is composite\")\n"
   ]
  },
  {
   "cell_type": "code",
   "execution_count": 12,
   "id": "eb9c5d75",
   "metadata": {},
   "outputs": [
    {
     "name": "stdout",
     "output_type": "stream",
     "text": [
      "enter the number:97\n",
      "It is a prime number\n"
     ]
    }
   ],
   "source": [
    "n=int(input(\"enter the number:\"))\n",
    "flag=0\n",
    "if n==0 or n==1:\n",
    "    flag=1\n",
    "for i in range(2,int(n/2)):\n",
    "    if n%i==0:\n",
    "        flag=1\n",
    "        break\n",
    "if flag==0:\n",
    "    print(\"It is a prime number\")\n",
    "else:\n",
    "    print(\"it is not a prime number\")"
   ]
  },
  {
   "cell_type": "code",
   "execution_count": 2,
   "id": "69acd126",
   "metadata": {},
   "outputs": [
    {
     "name": "stdout",
     "output_type": "stream",
     "text": [
      "enter the number:23\n",
      "(29, 130, False)\n"
     ]
    }
   ],
   "source": [
    "#smallest prime number greater than N\n",
    "\n",
    "def check_prime(m):\n",
    "    flag=0\n",
    "    if m<1:\n",
    "        flag=1\n",
    "    elif m==1:\n",
    "        flag=0\n",
    "    else:\n",
    "        for i in range(2,(m//2)+1):\n",
    "            if m%i==0:\n",
    "                flag=1\n",
    "                break\n",
    "    if flag==0:\n",
    "        return 1\n",
    "    else:\n",
    "        return 0\n",
    "    \n",
    "result=[]\n",
    "N=int(input(\"enter the number:\"))\n",
    "flag=0\n",
    "k=N+1\n",
    "while flag<1:\n",
    "    flag=check_prime(k)\n",
    "    if  flag==1:\n",
    "        result.append(k)\n",
    "    else:\n",
    "        k=k+1\n",
    "sum=0\n",
    "for i in range(N+1,k):\n",
    "    sum+=i\n",
    "result.append(sum)\n",
    "\n",
    "p1=k\n",
    "flag=0\n",
    "k=p1+1\n",
    "while flag<1:\n",
    "    flag=check_prime(k)\n",
    "    if flag==1:\n",
    "        p2=k\n",
    "    else:\n",
    "        k=k+1\n",
    "\n",
    "p3=p1*p2\n",
    "flag=check_prime(p3)\n",
    "if flag==0:\n",
    "    result.append(False)\n",
    "else:\n",
    "    result.append(True)\n",
    "prime_key=tuple(result)\n",
    "print(prime_key)"
   ]
  },
  {
   "cell_type": "code",
   "execution_count": 3,
   "id": "ea73e5fa",
   "metadata": {},
   "outputs": [
    {
     "name": "stdout",
     "output_type": "stream",
     "text": [
      "Enter the number of terms: 10\n",
      "Fibonacci sequence up to 10 terms:\n",
      "[0, 1, 1, 2, 3, 5, 8, 13, 21, 34]\n"
     ]
    }
   ],
   "source": [
    "#fibonaci series\n",
    "def generate_fibonacci(n):\n",
    "    \"\"\"Generate Fibonacci sequence up to n terms.\"\"\"\n",
    "    if n <= 0:\n",
    "        return []\n",
    "    elif n == 1:\n",
    "        return [0]\n",
    "    elif n == 2:\n",
    "        return [0, 1]\n",
    "\n",
    "    fib_sequence = [0, 1]\n",
    "    for i in range(2, n):\n",
    "        fib_sequence.append(fib_sequence[-1] + fib_sequence[-2])\n",
    "    return fib_sequence[:n]\n",
    "\n",
    "# Get user input\n",
    "num_terms = int(input(\"Enter the number of terms: \"))\n",
    "\n",
    "# Generate the Fibonacci sequence\n",
    "fibonacci_sequence = generate_fibonacci(num_terms)\n",
    "\n",
    "# Print the Fibonacci sequence\n",
    "print(f\"Fibonacci sequence up to {num_terms} terms:\")\n",
    "print(fibonacci_sequence)\n"
   ]
  },
  {
   "cell_type": "code",
   "execution_count": 4,
   "id": "9ae9edc6",
   "metadata": {},
   "outputs": [
    {
     "name": "stdout",
     "output_type": "stream",
     "text": [
      "Enter a number to check if it's prime: 97\n",
      "97 is a prime number.\n"
     ]
    }
   ],
   "source": [
    "#prime number\n",
    "def is_prime(n):\n",
    "    \"\"\"Check if the number n is a prime number.\"\"\"\n",
    "    if n <= 1:\n",
    "        return False\n",
    "    if n <= 3:\n",
    "        return True\n",
    "    if n % 2 == 0 or n % 3 == 0:\n",
    "        return False\n",
    "    i = 5\n",
    "    while i * i <= n:\n",
    "        if n % i == 0 or n % (i + 2) == 0:\n",
    "            return False\n",
    "        i += 6\n",
    "    return True\n",
    "\n",
    "# Main function to take user input and check for primality\n",
    "if __name__ == \"__main__\":\n",
    "    try:\n",
    "        number = int(input(\"Enter a number to check if it's prime: \"))\n",
    "        if is_prime(number):\n",
    "            print(f\"{number} is a prime number.\")\n",
    "        else:\n",
    "            print(f\"{number} is not a prime number.\")\n",
    "    except ValueError:\n",
    "        print(\"Please enter a valid integer.\")\n"
   ]
  },
  {
   "cell_type": "code",
   "execution_count": 7,
   "id": "e5e5df27",
   "metadata": {},
   "outputs": [
    {
     "name": "stdout",
     "output_type": "stream",
     "text": [
      "Enter a number to check if it's a palindrome: gadag\n",
      "Please enter a valid integer.\n"
     ]
    }
   ],
   "source": [
    "#palindrome number\n",
    "def is_palindrome(number):\n",
    "    \"\"\"Check if the given number is a palindrome.\"\"\"\n",
    "    str_number = str(number)\n",
    "    return str_number == str_number[::-1]\n",
    "\n",
    "# Main function to take user input and check for palindrome\n",
    "if __name__ == \"__main__\":\n",
    "    try:\n",
    "        number = int(input(\"Enter a number to check if it's a palindrome: \"))\n",
    "        if is_palindrome(number):\n",
    "            print(f\"{number} is a palindromic number.\")\n",
    "        else:\n",
    "            print(f\"{number} is not a palindromic number.\")\n",
    "    except ValueError:\n",
    "        print(\"Please enter a valid integer.\")\n"
   ]
  },
  {
   "cell_type": "code",
   "execution_count": 11,
   "id": "758c2e7a",
   "metadata": {},
   "outputs": [
    {
     "name": "stdout",
     "output_type": "stream",
     "text": [
      "Enter a string or number to check if it's a palindrome: 121\n",
      "'121' is a palindrome.\n"
     ]
    }
   ],
   "source": [
    "#palindrome for both number and alphabet\n",
    "def is_palindrome(input_string):\n",
    "    \"\"\"Check if the given input (number or alphabets) is a palindrome.\"\"\"\n",
    "    # Normalize the input by converting to string and removing non-alphanumeric characters\n",
    "    normalized_str = ''.join(filter(str.isalnum, str(input_string))).lower()\n",
    "    return normalized_str == normalized_str[::-1]\n",
    "\n",
    "# Main function to take user input and check for palindrome\n",
    "if __name__ == \"__main__\":\n",
    "    input_string = input(\"Enter a string or number to check if it's a palindrome: \")\n",
    "    if is_palindrome(input_string):\n",
    "        print(f\"'{input_string}' is a palindrome.\")\n",
    "    else:\n",
    "        print(f\"'{input_string}' is not a palindrome.\")\n"
   ]
  },
  {
   "cell_type": "code",
   "execution_count": 13,
   "id": "edacbd92",
   "metadata": {},
   "outputs": [
    {
     "name": "stdout",
     "output_type": "stream",
     "text": [
      "Enter an integer N: 22\n",
      "Level 1: Smallest prime number larger than 22: 23\n",
      "Level 2: Sum of primes between 22 and 23: 0\n",
      "Level 3: Product of 23 and 29 is prime: False\n"
     ]
    }
   ],
   "source": [
    "#prime nuber,smallest ,sum betwn those product is prime or not\n",
    "def is_prime(n):\n",
    "    \"\"\"Check if a number n is a prime number.\"\"\"\n",
    "    if n <= 1:\n",
    "        return False\n",
    "    if n <= 3:\n",
    "        return True\n",
    "    if n % 2 == 0 or n % 3 == 0:\n",
    "        return False\n",
    "    i = 5\n",
    "    while i * i <= n:\n",
    "        if n % i == 0 or n % (i + 2) == 0:\n",
    "            return False\n",
    "        i += 6\n",
    "    return True\n",
    "\n",
    "def next_prime(n):\n",
    "    \"\"\"Find the smallest prime number larger than n.\"\"\"\n",
    "    candidate = n + 1\n",
    "    while True:\n",
    "        if is_prime(candidate):\n",
    "            return candidate\n",
    "        candidate += 1\n",
    "\n",
    "def solve_puzzle(N):\n",
    "    # Level 1: Find the smallest prime number larger than N\n",
    "    prime1 = next_prime(N)\n",
    "    \n",
    "    # Level 2: Calculate the sum of all prime numbers between N and prime1\n",
    "    sum_primes = 0\n",
    "    current = N + 1\n",
    "    while current < prime1:\n",
    "        if is_prime(current):\n",
    "            sum_primes += current\n",
    "        current += 1\n",
    "    \n",
    "    # Level 3: Check if the product of prime1 and the next prime is also prime\n",
    "    next_prime1 = next_prime(prime1)\n",
    "    product = prime1 * next_prime1\n",
    "    prime_product = is_prime(product)\n",
    "    \n",
    "    return (prime1, sum_primes, prime_product)\n",
    "\n",
    "# Example usage:\n",
    "if __name__ == \"__main__\":\n",
    "    N = int(input(\"Enter an integer N: \"))\n",
    "    result = solve_puzzle(N)\n",
    "    print(f\"Level 1: Smallest prime number larger than {N}: {result[0]}\")\n",
    "    print(f\"Level 2: Sum of primes between {N} and {result[0]}: {result[1]}\")\n",
    "    print(f\"Level 3: Product of {result[0]} and {next_prime(result[0])} is prime: {result[2]}\")\n"
   ]
  },
  {
   "cell_type": "code",
   "execution_count": 18,
   "id": "6b7d0920",
   "metadata": {},
   "outputs": [
    {
     "name": "stdout",
     "output_type": "stream",
     "text": [
      "Enter a sentence: happybirhday\n",
      "In the word 'happybirhday', the vowel frequencies are: {'a': 2, 'i': 1}\n"
     ]
    }
   ],
   "source": [
    "#counting the frequency of an vowel in sentence\n",
    "def count_vowels_in_word(word):\n",
    "    vowels = 'aeiou'\n",
    "    return {vowel: word.count(vowel) for vowel in vowels if vowel in word}\n",
    "\n",
    "def main():\n",
    "    try:\n",
    "        # Taking input from the user\n",
    "        user_sentence = input(\"Enter a sentence: \")\n",
    "        \n",
    "        # Splitting the sentence into words\n",
    "        words = user_sentence.split()\n",
    "        \n",
    "        # Counting the frequency of vowels in each word\n",
    "        for word in words:\n",
    "            vowel_frequency = count_vowels_in_word(word.lower())\n",
    "            print(f\"In the word '{word}', the vowel frequencies are: {vowel_frequency}\")\n",
    "    \n",
    "    except Exception as e:\n",
    "        print(f\"An error occurred: {e}\")\n",
    "\n",
    "if __name__ == \"__main__\":\n",
    "    main()\n"
   ]
  },
  {
   "cell_type": "code",
   "execution_count": 21,
   "id": "20c9a4bb",
   "metadata": {},
   "outputs": [
    {
     "name": "stdout",
     "output_type": "stream",
     "text": [
      "hello world\n",
      "{'a': ['e'], 'b': ['o']}\n"
     ]
    }
   ],
   "source": [
    "#max vowel frquency count sir \n",
    "x=input()\n",
    "def c1(x):\n",
    "    di={'a':0,'e':0,'i':0,'o':0,'u':0}\n",
    "    for i in x:\n",
    "        if i=='a' or i=='A':\n",
    "            di['a']+=1\n",
    "            break\n",
    "        elif i=='e' or i=='E':\n",
    "            di['e']+=1\n",
    "            break\n",
    "        elif i=='i' or i=='I':\n",
    "            di['i']+=1\n",
    "            break\n",
    "        elif i=='o' or i=='O':\n",
    "            di['o']+=1\n",
    "            break \n",
    "        elif i=='u' or i=='U':\n",
    "            di['u']+=1\n",
    "    s=max(di.values())\n",
    "    r=[]\n",
    "    for i,j in di.items() :\n",
    "        if j==s:\n",
    "            r.append(i)\n",
    "    return r\n",
    "ip=[['a','hello'],['b','how are you']]\n",
    "out={}\n",
    "for i in ip:\n",
    "    out[i[0]]=c1(i[1])\n",
    "print(out)"
   ]
  },
  {
   "cell_type": "code",
   "execution_count": 20,
   "id": "a8d27bd4",
   "metadata": {},
   "outputs": [
    {
     "name": "stdout",
     "output_type": "stream",
     "text": [
      "hi\n"
     ]
    }
   ],
   "source": []
  },
  {
   "cell_type": "code",
   "execution_count": null,
   "id": "608f8ade",
   "metadata": {},
   "outputs": [],
   "source": []
  }
 ],
 "metadata": {
  "kernelspec": {
   "display_name": "Python 3 (ipykernel)",
   "language": "python",
   "name": "python3"
  },
  "language_info": {
   "codemirror_mode": {
    "name": "ipython",
    "version": 3
   },
   "file_extension": ".py",
   "mimetype": "text/x-python",
   "name": "python",
   "nbconvert_exporter": "python",
   "pygments_lexer": "ipython3",
   "version": "3.11.5"
  }
 },
 "nbformat": 4,
 "nbformat_minor": 5
}
